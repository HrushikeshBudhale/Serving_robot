{
 "cells": [
  {
   "cell_type": "markdown",
   "metadata": {},
   "source": [
    "### Inverse and Forward kinematic verification on UR5 manipulator\n",
    "- Author: Hrushikesh Budhale (hbudhale@umd.edu)"
   ]
  },
  {
   "cell_type": "code",
   "execution_count": null,
   "metadata": {},
   "outputs": [],
   "source": [
    "import sympy as sp\n",
    "import numpy as np\n",
    "from IPython.display import Math\n",
    "from matplotlib import pyplot as plt\n",
    "from mpl_toolkits.mplot3d import axes3d, Axes3D\n",
    "from matplotlib import colors\n",
    "\n",
    "'''\n",
    "######### Tested on #########\n",
    "# Python = 3.8.2            #\n",
    "# matplotlib = 3.1.2        #\n",
    "# sympy = 1.9               #\n",
    "# numpy = 1.21.2            #\n",
    "#############################\n",
    "'''\n"
   ]
  },
  {
   "cell_type": "code",
   "execution_count": 2,
   "metadata": {},
   "outputs": [],
   "source": [
    "# Defining Constants\n",
    "\n",
    "pen_length = 0.1\n",
    "d1 = 0.089159\n",
    "d4 = 0.10915\n",
    "d5 = 0.09465\n",
    "d6 = 0.0823\n",
    "\n",
    "a2 = -0.425\n",
    "a3 = -0.39225\n",
    "\n",
    "# Defining Symbols\n",
    "\n",
    "th1, th2, th3, th4, th5, th6 = sp.symbols('\\\\theta_1^*, \\\\theta_2^*, \\\\theta_3^*, \\\\theta_4^*, \\\\theta_5^*, \\\\theta_6^*')\n",
    "th = [th1, th2, th3, th4, th5, th6]     # List to store all theta symbols\n",
    "\n",
    "T0, T1, T2, T3, T4, T5, T6= sp.symbols('T^0_0, T^0_1, T^0_2, T^0_3, T^0_4, T^0_5, T^0_6')\n",
    "T0 = [T0, T1, T2, T3, T4, T5, T6]       # List to store all tranformation matrices from base link\n",
    "\n",
    "Jv0, Jv1, Jv2, Jv3, Jv4, Jv5, Jv6 = sp.symbols('Jv0, Jv1, Jv2, Jv3, Jv4, Jv5, Jv6')\n",
    "Jv = [Jv0, Jv1, Jv2, Jv3, Jv4, Jv5, Jv6]    # List to store all linear velocity jacobians for 6th link\n",
    "\n",
    "Jw0, Jw1, Jw2, Jw3, Jw4, Jw5, Jw6 = sp.symbols('Jw0, Jw1, Jw2, Jw3, Jw4, Jw5, Jw6')\n",
    "Jw = [Jw0, Jw1, Jw2, Jw3, Jw4, Jw5, Jw6]    # List to store all angular velocity jacobians for 6th link"
   ]
  },
  {
   "cell_type": "code",
   "execution_count": 3,
   "metadata": {},
   "outputs": [],
   "source": [
    "\n",
    "# Defining necessary functions\n",
    "def d_matrix(d):\n",
    "    matrix = sp.Matrix([[1, 0, 0, 0], [0, 1, 0, 0], [0, 0, 1, d], [0, 0, 0, 1]])\n",
    "    return matrix\n",
    "\n",
    "def theta_matrix(theta):\n",
    "    matrix = sp.Matrix([[sp.cos(theta), -sp.sin(theta), 0, 0], [sp.sin(theta), sp.cos(theta), 0, 0], [0, 0, 1, 0], [0, 0, 0, 1]])\n",
    "    return matrix\n",
    "\n",
    "def r_matrix(r):\n",
    "    matrix = sp.Matrix([[1, 0, 0, r], [0, 1, 0, 0], [0, 0, 1, 0], [0, 0, 0, 1]])\n",
    "    return matrix\n",
    "\n",
    "def alpha_matrix(alpha):\n",
    "    matrix = sp.Matrix([[1, 0, 0, 0], [0, sp.cos(alpha), -sp.sin(alpha), 0], [0, sp.sin(alpha), sp.cos(alpha), 0], [0, 0, 0, 1]])\n",
    "    return matrix\n",
    "\n",
    "def get_transformation_matrix(d, theta, r, alpha):\n",
    "    T = d_matrix(d)\n",
    "    T = T @ theta_matrix(theta)\n",
    "    T = T @ r_matrix(r)\n",
    "    T = T @ alpha_matrix(alpha)\n",
    "    return T\n",
    "\n",
    "def get_dh_params(show_DH_table=False):\n",
    "    Ts = sp.Matrix([[d1, th1,          0,  sp.pi/2],\n",
    "                    [ 0, th2-sp.pi/2, a2,        0],\n",
    "                    [ 0, th3        , a3,        0],\n",
    "                    [d4, th4-sp.pi/2,  0,  sp.pi/2],\n",
    "                    [d5, th5,          0, -sp.pi/2],\n",
    "                    [d6, th6,          0,        0]])\n",
    "    if show_DH_table:\n",
    "        string = \"$\"\n",
    "        string += \" DH \\\\ parameters \\\\ for \\\\ UR5 \\\\ manipulator \\\\ are \\\\ as \\\\ follows, \\\\\\ \"\n",
    "        string += \"\\\\begin{aligned}\"\n",
    "        string += \"\\\\begin{array}{cccc}\"\n",
    "        string += \"d && \\\\theta && a && \\\\alpha \\\\\\ \"\n",
    "        string += \" \\\\hline \\\\\\ \"\n",
    "        for i in range(int(len(Ts)/4)):\n",
    "            for j in range(4):\n",
    "                string += str(Ts[i,j]) + \" && \"\n",
    "            string += \" \\\\\\ \"\n",
    "        string += \"\\\\end{array}\"\n",
    "        string += \"\\\\end{aligned}\"\n",
    "        string += \"$\"\n",
    "        display(Math(string))\n",
    "    \n",
    "    return Ts\n",
    "\n",
    "def get_fk(DH_params, print_intermediate_TF=False):\n",
    "    '''\n",
    "    Returns returns \n",
    "        1. transformation matrix for end effector pose w.r.t. origin\n",
    "        2. list of transformation matrix for end effector w.r.t each \n",
    "    '''\n",
    "    T0[0] = sp.Matrix([[1, 0, 0, 0], [0, 1, 0, 0], [0, 0, 1, 0], [0, 0, 0, 1]])\n",
    "    string = \"$$ we \\\\ get \\\\ intermediate \\\\ transformation \\\\ matrices \\\\ as \\\\ follows, $$\"\n",
    "    for i in range(int(len(DH_params)/4)):\n",
    "        Ti = get_transformation_matrix(d=DH_params[i, 0], theta=DH_params[i, 1], r=DH_params[i, 2], alpha=DH_params[i, 3])\n",
    "        string += \" \\\\ T_{}^{} = \\\\ \".format(i+1,i) + sp.latex(Ti)\n",
    "        string += \"\\\\\\ \"if i%3 == 2 else \" \\\\ \" # print on new line after printing 3 matrices\n",
    "        T0[i+1] = T0[i] @ Ti\n",
    "    string += \"$\"\n",
    "    if print_intermediate_TF:\n",
    "        display(Math(string))\n",
    "    return T0\n",
    "\n",
    "def get_Z(T_M):\n",
    "    return T_M.col(2).row([0, 1, 2])\n",
    "\n",
    "def get_O(T_M):\n",
    "    return T_M.col(3).row([0, 1, 2])\n",
    "\n",
    "def get_Jacobian_UR5(T0, method=1, simplifyMatrix=False):\n",
    "    O6 = get_O(T0[6])\n",
    "    for i in range(len(th)):\n",
    "        Zi = get_Z(T0[i])\n",
    "        # print(Zi)\n",
    "        if method == 1:\n",
    "            Oi = get_O(T0[i])\n",
    "            ri = O6 - Oi\n",
    "            Jv[i] = Zi.cross(ri)\n",
    "        else:\n",
    "            Jv[i] = sp.diff(O6, th[i])\n",
    "        Jw[i] = Zi\n",
    "    \n",
    "    JV = sp.Matrix.hstack(Jv[0], Jv[1], Jv[2], Jv[3], Jv[4], Jv[5])\n",
    "    JW = sp.Matrix.hstack(Jw[0], Jw[1], Jw[2], Jw[3], Jw[4], Jw[5])\n",
    "\n",
    "    if simplifyMatrix:\n",
    "        print(\"Simplifying Jacobian...\")\n",
    "        JV = sp.simplify(JV)\n",
    "        JW = sp.simplify(JW)\n",
    "        print(\"Complete.\")\n",
    "    \n",
    "    J = sp.Matrix.vstack(JV, JW)\n",
    "    return J\n",
    "\n",
    "def get_T_for_circle(radius, theta):\n",
    "    T0c1 = get_transformation_matrix(0.680, 0, 0, -sp.pi/2)\n",
    "    T0c2 = get_transformation_matrix(0.605, theta, radius, 0)\n",
    "    Tc = T0c1 @ T0c2\n",
    "    return Tc\n",
    "\n",
    "def draw_circle_using_jacobian(T0, J):\n",
    "    theta_list = sp.Matrix([[-sp.pi/2], [-0.4+sp.pi/2], [-1.6], [-1.15+sp.pi/2], [-sp.pi/2], [-0.2]])\n",
    "    dP = sp.Matrix([[0], [0], [0], [0], [0], [0]])\n",
    "    diffP = [0]*6\n",
    "    arc_angle = 0\n",
    "    circle_radius = 0.1\n",
    "    delta_t = 0.5\n",
    "\n",
    "    Tc = get_T_for_circle(circle_radius, arc_angle)\n",
    "    P_goal = Tc.row([0,1,2]).col([3])\n",
    "    R_goal = Tc.row([0,1,2]).col([0,1,2])\n",
    "\n",
    "    # Plotting related\n",
    "    eff_pts = list()\n",
    "    fig = plt.figure()\n",
    "    ax = Axes3D(fig)\n",
    "\n",
    "    while True:\n",
    "        T_eff = T0[6].subs([(th1, theta_list[0]), (th2, theta_list[1]), (th3, theta_list[2]), \n",
    "                            (th4, theta_list[3]), (th5, theta_list[4]), (th6, theta_list[5])])\n",
    "        P_eff = T_eff.row([0,1,2]).col([3])\n",
    "        P_tip = P_eff + pen_length*(T_eff.row([0,1,2]).col([2]))\n",
    "        R_curr = T_eff.row([0,1,2]).col([0,1,2])\n",
    "        R60 = R_curr.transpose()\n",
    "        R6e = R60 @ R_goal\n",
    "        \n",
    "        diffP[0] = P_goal[0] - P_tip[0]\n",
    "        diffP[1] = P_goal[1] - P_tip[1]\n",
    "        diffP[2] = P_goal[2] - P_tip[2]\n",
    "\n",
    "        diffP[4] = float(sp.acos(R6e[2,2]))\n",
    "        if sp.sin(diffP[4]) < 0:\n",
    "            diffP[3] = float(sp.atan2(R6e[1,2],  R6e[0,2]))\n",
    "            diffP[5] = float(sp.atan2(R6e[2,1], -R6e[2,0]))\n",
    "        else:\n",
    "            diffP[3] = float(sp.atan2(-R6e[1,2], -R6e[0,2]))\n",
    "            diffP[5] = float(sp.atan2(-R6e[2,1],  R6e[2,0]))\n",
    "\n",
    "        \n",
    "        dist = sp.sqrt(diffP[0]**2 + diffP[1]**2 + diffP[2]**2)\n",
    "        if dist < 0.05:\n",
    "            arc_angle += 0.5\n",
    "            Tc = get_T_for_circle(circle_radius, arc_angle)\n",
    "            P_goal = Tc.row([0,1,2]).col([3])\n",
    "            R_goal = Tc.row([0,1,2]).col([0,1,2])\n",
    "            # print(round(arc_angle,2))\n",
    "            if arc_angle > 2.2*sp.pi :\n",
    "                break\n",
    "        \n",
    "        dP[0] = diffP[0]\n",
    "        dP[1] = diffP[1]\n",
    "        dP[2] = diffP[2]\n",
    "        dP[3] = diffP[3] / 100\n",
    "        dP[4] = diffP[4] / 100\n",
    "        dP[5] = diffP[5] / 100\n",
    "        \n",
    "        Js = J.subs([(th1, theta_list[0]), (th2, theta_list[1]), (th3, theta_list[2]), \n",
    "                    (th4, theta_list[3]), (th5, theta_list[4]), (th6, theta_list[5])])\n",
    "        J_inv = Js.inv('LU')\n",
    "        dTh = (J_inv @ dP) * delta_t\n",
    "        \n",
    "        theta_list += np.clip(dTh, -0.1, 0.1)\n",
    "\n",
    "        ax.clear()\n",
    "        eff_pts = plot_figures(T0, theta_list, fig, ax, eff_pts)\n",
    "        plt.pause(0.001)\n",
    "\n",
    "    plt.show()\n",
    "    return\n",
    "\n",
    "def plot_figures(T0, theta_list, fig, ax, eff_pts):\n",
    "    ax.axes.set_xlim3d(-1, 1) \n",
    "    ax.axes.set_ylim3d(-1, 1) \n",
    "    ax.axes.set_zlim3d(0, 1) \n",
    "    \n",
    "    T = list()\n",
    "    z0 = sp.Matrix([[0],[0],[1],[0]])\n",
    "    \n",
    "    for Ti in T0:\n",
    "        T.append(Ti.subs([(th1, theta_list[0]), (th2, theta_list[1]), (th3, theta_list[2]), \n",
    "                          (th4, theta_list[3]), (th5, theta_list[4]), (th6, theta_list[5])]))\n",
    "\n",
    "    for i in range(len(T)-1):\n",
    "        # Plot arm links\n",
    "        ax.plot([T[i][0,3], T[i+1][0,3]],\n",
    "                [T[i][1,3], T[i+1][1,3]],\n",
    "                [T[i][2,3], T[i+1][2,3]], linewidth=3, color='b')\n",
    "\n",
    "        # plot joint axes\n",
    "        if i == 2:      # skip for third joint as it is constant\n",
    "            continue\n",
    "        zi = (T[i] @ z0) * 0.05 \n",
    "        ax.plot([T[i][0,3] + zi[0], T[i][0,3]], \n",
    "                [T[i][1,3] + zi[1], T[i][1,3]], \n",
    "                [T[i][2,3] + zi[2], T[i][2,3]], linewidth=5, color='r')\n",
    "\n",
    "    # Draw Pen\n",
    "    Te = T[-1]\n",
    "    zi = (T[-1] @ z0) * pen_length\n",
    "    eff_x = round(Te[0,3] + zi[0], 3)\n",
    "    eff_y = round(Te[1,3] + zi[1], 3)\n",
    "    eff_z = round(Te[2,3] + zi[2], 3)\n",
    "    eff_pts.append([eff_x, eff_y, eff_z])\n",
    "    ax.text(eff_x, eff_y, eff_z, '({}, {}, {})'.format(eff_x, eff_y, eff_z))\n",
    "    ax.plot([Te[0,3], eff_x],\n",
    "            [Te[1,3], eff_y],\n",
    "            [Te[2,3], eff_z], linewidth=2, color='k')\n",
    "    \n",
    "    # Draw trajectory\n",
    "    for eff_pt in eff_pts:\n",
    "        ax.plot([eff_pt[0]],\n",
    "                [eff_pt[1]],\n",
    "                [eff_pt[2]], \"o\", color=\"g\",  markersize=2)\n",
    "    \n",
    "    return eff_pts\n"
   ]
  },
  {
   "cell_type": "code",
   "execution_count": 4,
   "metadata": {},
   "outputs": [
    {
     "data": {
      "text/latex": [
       "$\\displaystyle  DH \\ parameters \\ for \\ UR5 \\ manipulator \\ are \\ as \\ follows, \\\\ \\begin{aligned}\\begin{array}{cccc}d && \\theta && a && \\alpha \\\\  \\hline \\\\ 0.0891590000000000 && \\theta_1^* && 0 && pi/2 &&  \\\\ 0 && \\theta_2^* - pi/2 && -0.425000000000000 && 0 &&  \\\\ 0 && \\theta_3^* && -0.392250000000000 && 0 &&  \\\\ 0.109150000000000 && \\theta_4^* - pi/2 && 0 && pi/2 &&  \\\\ 0.0946500000000000 && \\theta_5^* && 0 && -pi/2 &&  \\\\ 0.0823000000000000 && \\theta_6^* && 0 && 0 &&  \\\\ \\end{array}\\end{aligned}$"
      ],
      "text/plain": [
       "<IPython.core.display.Math object>"
      ]
     },
     "metadata": {},
     "output_type": "display_data"
    }
   ],
   "source": [
    "\n",
    "# Calculate compute DH parameters for UR5\n",
    "DH_params = get_dh_params(show_DH_table=True)\n"
   ]
  },
  {
   "cell_type": "code",
   "execution_count": 5,
   "metadata": {},
   "outputs": [
    {
     "data": {
      "text/latex": [
       "$\\displaystyle  we \\ get \\ intermediate \\ transformation \\ matrices \\ as \\ follows, $$ \\ T_1^0 = \\ \\left[\\begin{matrix}\\cos{\\left(\\theta^{*}_{1} \\right)} & 0 & \\sin{\\left(\\theta^{*}_{1} \\right)} & 0\\\\\\sin{\\left(\\theta^{*}_{1} \\right)} & 0 & - \\cos{\\left(\\theta^{*}_{1} \\right)} & 0\\\\0 & 1 & 0 & 0.089159\\\\0 & 0 & 0 & 1\\end{matrix}\\right] \\  \\ T_2^1 = \\ \\left[\\begin{matrix}\\sin{\\left(\\theta^{*}_{2} \\right)} & \\cos{\\left(\\theta^{*}_{2} \\right)} & 0 & - 0.425 \\sin{\\left(\\theta^{*}_{2} \\right)}\\\\- \\cos{\\left(\\theta^{*}_{2} \\right)} & \\sin{\\left(\\theta^{*}_{2} \\right)} & 0 & 0.425 \\cos{\\left(\\theta^{*}_{2} \\right)}\\\\0 & 0 & 1 & 0\\\\0 & 0 & 0 & 1\\end{matrix}\\right] \\  \\ T_3^2 = \\ \\left[\\begin{matrix}\\cos{\\left(\\theta^{*}_{3} \\right)} & - \\sin{\\left(\\theta^{*}_{3} \\right)} & 0 & - 0.39225 \\cos{\\left(\\theta^{*}_{3} \\right)}\\\\\\sin{\\left(\\theta^{*}_{3} \\right)} & \\cos{\\left(\\theta^{*}_{3} \\right)} & 0 & - 0.39225 \\sin{\\left(\\theta^{*}_{3} \\right)}\\\\0 & 0 & 1 & 0\\\\0 & 0 & 0 & 1\\end{matrix}\\right]\\\\  \\ T_4^3 = \\ \\left[\\begin{matrix}\\sin{\\left(\\theta^{*}_{4} \\right)} & 0 & - \\cos{\\left(\\theta^{*}_{4} \\right)} & 0\\\\- \\cos{\\left(\\theta^{*}_{4} \\right)} & 0 & - \\sin{\\left(\\theta^{*}_{4} \\right)} & 0\\\\0 & 1 & 0 & 0.10915\\\\0 & 0 & 0 & 1\\end{matrix}\\right] \\  \\ T_5^4 = \\ \\left[\\begin{matrix}\\cos{\\left(\\theta^{*}_{5} \\right)} & 0 & - \\sin{\\left(\\theta^{*}_{5} \\right)} & 0\\\\\\sin{\\left(\\theta^{*}_{5} \\right)} & 0 & \\cos{\\left(\\theta^{*}_{5} \\right)} & 0\\\\0 & -1 & 0 & 0.09465\\\\0 & 0 & 0 & 1\\end{matrix}\\right] \\  \\ T_6^5 = \\ \\left[\\begin{matrix}\\cos{\\left(\\theta^{*}_{6} \\right)} & - \\sin{\\left(\\theta^{*}_{6} \\right)} & 0 & 0\\\\\\sin{\\left(\\theta^{*}_{6} \\right)} & \\cos{\\left(\\theta^{*}_{6} \\right)} & 0 & 0\\\\0 & 0 & 1 & 0.0823\\\\0 & 0 & 0 & 1\\end{matrix}\\right]\\\\ $"
      ],
      "text/plain": [
       "<IPython.core.display.Math object>"
      ]
     },
     "metadata": {},
     "output_type": "display_data"
    }
   ],
   "source": [
    "\n",
    "# Get list of all transformations wrt origin (base frame)\n",
    "T0 = get_fk(DH_params, print_intermediate_TF=True)\n"
   ]
  },
  {
   "cell_type": "code",
   "execution_count": 46,
   "metadata": {},
   "outputs": [
    {
     "name": "stdout",
     "output_type": "stream",
     "text": [
      "Simplifying Jacobian...\n",
      "Complete.\n"
     ]
    },
    {
     "data": {
      "text/latex": [
       "$\\displaystyle \\left[\\begin{matrix}0.425 \\sin{\\left(\\theta^{*}_{1} \\right)} \\sin{\\left(\\theta^{*}_{2} \\right)} - 0.0823 \\sin{\\left(\\theta^{*}_{1} \\right)} \\sin{\\left(\\theta^{*}_{5} \\right)} \\cos{\\left(\\theta^{*}_{2} + \\theta^{*}_{3} + \\theta^{*}_{4} \\right)} + 0.39225 \\sin{\\left(\\theta^{*}_{1} \\right)} \\sin{\\left(\\theta^{*}_{2} + \\theta^{*}_{3} \\right)} + 0.09465 \\sin{\\left(\\theta^{*}_{1} \\right)} \\sin{\\left(\\theta^{*}_{2} + \\theta^{*}_{3} + \\theta^{*}_{4} \\right)} + 0.0823 \\cos{\\left(\\theta^{*}_{1} \\right)} \\cos{\\left(\\theta^{*}_{5} \\right)} + 0.10915 \\cos{\\left(\\theta^{*}_{1} \\right)} & - \\left(0.0823 \\sin{\\left(\\theta^{*}_{5} \\right)} \\sin{\\left(\\theta^{*}_{2} + \\theta^{*}_{3} + \\theta^{*}_{4} \\right)} + 0.425 \\cos{\\left(\\theta^{*}_{2} \\right)} + 0.39225 \\cos{\\left(\\theta^{*}_{2} + \\theta^{*}_{3} \\right)} + 0.09465 \\cos{\\left(\\theta^{*}_{2} + \\theta^{*}_{3} + \\theta^{*}_{4} \\right)}\\right) \\cos{\\left(\\theta^{*}_{1} \\right)} & - \\left(0.0823 \\sin{\\left(\\theta^{*}_{5} \\right)} \\sin{\\left(\\theta^{*}_{2} + \\theta^{*}_{3} + \\theta^{*}_{4} \\right)} + 0.39225 \\cos{\\left(\\theta^{*}_{2} + \\theta^{*}_{3} \\right)} + 0.09465 \\cos{\\left(\\theta^{*}_{2} + \\theta^{*}_{3} + \\theta^{*}_{4} \\right)}\\right) \\cos{\\left(\\theta^{*}_{1} \\right)} & - \\left(0.0823 \\sin{\\left(\\theta^{*}_{5} \\right)} \\sin{\\left(\\theta^{*}_{2} + \\theta^{*}_{3} + \\theta^{*}_{4} \\right)} + 0.09465 \\cos{\\left(\\theta^{*}_{2} + \\theta^{*}_{3} + \\theta^{*}_{4} \\right)}\\right) \\cos{\\left(\\theta^{*}_{1} \\right)} & - 0.0823 \\sin{\\left(\\theta^{*}_{1} \\right)} \\sin{\\left(\\theta^{*}_{5} \\right)} + 0.0823 \\cos{\\left(\\theta^{*}_{1} \\right)} \\cos{\\left(\\theta^{*}_{5} \\right)} \\cos{\\left(\\theta^{*}_{2} + \\theta^{*}_{3} + \\theta^{*}_{4} \\right)} & 0\\\\0.0823 \\sin{\\left(\\theta^{*}_{1} \\right)} \\cos{\\left(\\theta^{*}_{5} \\right)} + 0.10915 \\sin{\\left(\\theta^{*}_{1} \\right)} - 0.425 \\sin{\\left(\\theta^{*}_{2} \\right)} \\cos{\\left(\\theta^{*}_{1} \\right)} + 0.0823 \\sin{\\left(\\theta^{*}_{5} \\right)} \\cos{\\left(\\theta^{*}_{1} \\right)} \\cos{\\left(\\theta^{*}_{2} + \\theta^{*}_{3} + \\theta^{*}_{4} \\right)} - 0.39225 \\sin{\\left(\\theta^{*}_{2} + \\theta^{*}_{3} \\right)} \\cos{\\left(\\theta^{*}_{1} \\right)} - 0.09465 \\sin{\\left(\\theta^{*}_{2} + \\theta^{*}_{3} + \\theta^{*}_{4} \\right)} \\cos{\\left(\\theta^{*}_{1} \\right)} & - \\left(0.0823 \\sin{\\left(\\theta^{*}_{5} \\right)} \\sin{\\left(\\theta^{*}_{2} + \\theta^{*}_{3} + \\theta^{*}_{4} \\right)} + 0.425 \\cos{\\left(\\theta^{*}_{2} \\right)} + 0.39225 \\cos{\\left(\\theta^{*}_{2} + \\theta^{*}_{3} \\right)} + 0.09465 \\cos{\\left(\\theta^{*}_{2} + \\theta^{*}_{3} + \\theta^{*}_{4} \\right)}\\right) \\sin{\\left(\\theta^{*}_{1} \\right)} & - \\left(0.0823 \\sin{\\left(\\theta^{*}_{5} \\right)} \\sin{\\left(\\theta^{*}_{2} + \\theta^{*}_{3} + \\theta^{*}_{4} \\right)} + 0.39225 \\cos{\\left(\\theta^{*}_{2} + \\theta^{*}_{3} \\right)} + 0.09465 \\cos{\\left(\\theta^{*}_{2} + \\theta^{*}_{3} + \\theta^{*}_{4} \\right)}\\right) \\sin{\\left(\\theta^{*}_{1} \\right)} & - \\left(0.0823 \\sin{\\left(\\theta^{*}_{5} \\right)} \\sin{\\left(\\theta^{*}_{2} + \\theta^{*}_{3} + \\theta^{*}_{4} \\right)} + 0.09465 \\cos{\\left(\\theta^{*}_{2} + \\theta^{*}_{3} + \\theta^{*}_{4} \\right)}\\right) \\sin{\\left(\\theta^{*}_{1} \\right)} & 0.0823 \\sin{\\left(\\theta^{*}_{1} \\right)} \\cos{\\left(\\theta^{*}_{5} \\right)} \\cos{\\left(\\theta^{*}_{2} + \\theta^{*}_{3} + \\theta^{*}_{4} \\right)} + 0.0823 \\sin{\\left(\\theta^{*}_{5} \\right)} \\cos{\\left(\\theta^{*}_{1} \\right)} & 0\\\\0 & - 0.425 \\sin{\\left(\\theta^{*}_{2} \\right)} + 0.0823 \\sin{\\left(\\theta^{*}_{5} \\right)} \\cos{\\left(\\theta^{*}_{2} + \\theta^{*}_{3} + \\theta^{*}_{4} \\right)} - 0.39225 \\sin{\\left(\\theta^{*}_{2} + \\theta^{*}_{3} \\right)} - 0.09465 \\sin{\\left(\\theta^{*}_{2} + \\theta^{*}_{3} + \\theta^{*}_{4} \\right)} & 0.0823 \\sin{\\left(\\theta^{*}_{5} \\right)} \\cos{\\left(\\theta^{*}_{2} + \\theta^{*}_{3} + \\theta^{*}_{4} \\right)} - 0.39225 \\sin{\\left(\\theta^{*}_{2} + \\theta^{*}_{3} \\right)} - 0.09465 \\sin{\\left(\\theta^{*}_{2} + \\theta^{*}_{3} + \\theta^{*}_{4} \\right)} & 0.0823 \\sin{\\left(\\theta^{*}_{5} \\right)} \\cos{\\left(\\theta^{*}_{2} + \\theta^{*}_{3} + \\theta^{*}_{4} \\right)} - 0.09465 \\sin{\\left(\\theta^{*}_{2} + \\theta^{*}_{3} + \\theta^{*}_{4} \\right)} & 0.0823 \\sin{\\left(\\theta^{*}_{2} + \\theta^{*}_{3} + \\theta^{*}_{4} \\right)} \\cos{\\left(\\theta^{*}_{5} \\right)} & 0\\\\0 & \\sin{\\left(\\theta^{*}_{1} \\right)} & \\sin{\\left(\\theta^{*}_{1} \\right)} & \\sin{\\left(\\theta^{*}_{1} \\right)} & - \\sin{\\left(\\theta^{*}_{2} + \\theta^{*}_{3} + \\theta^{*}_{4} \\right)} \\cos{\\left(\\theta^{*}_{1} \\right)} & \\sin{\\left(\\theta^{*}_{1} \\right)} \\cos{\\left(\\theta^{*}_{5} \\right)} + \\sin{\\left(\\theta^{*}_{5} \\right)} \\cos{\\left(\\theta^{*}_{1} \\right)} \\cos{\\left(\\theta^{*}_{2} + \\theta^{*}_{3} + \\theta^{*}_{4} \\right)}\\\\0 & - \\cos{\\left(\\theta^{*}_{1} \\right)} & - \\cos{\\left(\\theta^{*}_{1} \\right)} & - \\cos{\\left(\\theta^{*}_{1} \\right)} & - \\sin{\\left(\\theta^{*}_{1} \\right)} \\sin{\\left(\\theta^{*}_{2} + \\theta^{*}_{3} + \\theta^{*}_{4} \\right)} & \\sin{\\left(\\theta^{*}_{1} \\right)} \\sin{\\left(\\theta^{*}_{5} \\right)} \\cos{\\left(\\theta^{*}_{2} + \\theta^{*}_{3} + \\theta^{*}_{4} \\right)} - \\cos{\\left(\\theta^{*}_{1} \\right)} \\cos{\\left(\\theta^{*}_{5} \\right)}\\\\1 & 0 & 0 & 0 & \\cos{\\left(\\theta^{*}_{2} + \\theta^{*}_{3} + \\theta^{*}_{4} \\right)} & \\sin{\\left(\\theta^{*}_{5} \\right)} \\sin{\\left(\\theta^{*}_{2} + \\theta^{*}_{3} + \\theta^{*}_{4} \\right)}\\end{matrix}\\right]$"
      ],
      "text/plain": [
       "Matrix([\n",
       "[0.425*sin(\\theta_1^*)*sin(\\theta_2^*) - 0.0823*sin(\\theta_1^*)*sin(\\theta_5^*)*cos(\\theta_2^* + \\theta_3^* + \\theta_4^*) + 0.39225*sin(\\theta_1^*)*sin(\\theta_2^* + \\theta_3^*) + 0.09465*sin(\\theta_1^*)*sin(\\theta_2^* + \\theta_3^* + \\theta_4^*) + 0.0823*cos(\\theta_1^*)*cos(\\theta_5^*) + 0.10915*cos(\\theta_1^*), -(0.0823*sin(\\theta_5^*)*sin(\\theta_2^* + \\theta_3^* + \\theta_4^*) + 0.425*cos(\\theta_2^*) + 0.39225*cos(\\theta_2^* + \\theta_3^*) + 0.09465*cos(\\theta_2^* + \\theta_3^* + \\theta_4^*))*cos(\\theta_1^*), -(0.0823*sin(\\theta_5^*)*sin(\\theta_2^* + \\theta_3^* + \\theta_4^*) + 0.39225*cos(\\theta_2^* + \\theta_3^*) + 0.09465*cos(\\theta_2^* + \\theta_3^* + \\theta_4^*))*cos(\\theta_1^*), -(0.0823*sin(\\theta_5^*)*sin(\\theta_2^* + \\theta_3^* + \\theta_4^*) + 0.09465*cos(\\theta_2^* + \\theta_3^* + \\theta_4^*))*cos(\\theta_1^*), -0.0823*sin(\\theta_1^*)*sin(\\theta_5^*) + 0.0823*cos(\\theta_1^*)*cos(\\theta_5^*)*cos(\\theta_2^* + \\theta_3^* + \\theta_4^*),                                                                                                           0],\n",
       "[0.0823*sin(\\theta_1^*)*cos(\\theta_5^*) + 0.10915*sin(\\theta_1^*) - 0.425*sin(\\theta_2^*)*cos(\\theta_1^*) + 0.0823*sin(\\theta_5^*)*cos(\\theta_1^*)*cos(\\theta_2^* + \\theta_3^* + \\theta_4^*) - 0.39225*sin(\\theta_2^* + \\theta_3^*)*cos(\\theta_1^*) - 0.09465*sin(\\theta_2^* + \\theta_3^* + \\theta_4^*)*cos(\\theta_1^*), -(0.0823*sin(\\theta_5^*)*sin(\\theta_2^* + \\theta_3^* + \\theta_4^*) + 0.425*cos(\\theta_2^*) + 0.39225*cos(\\theta_2^* + \\theta_3^*) + 0.09465*cos(\\theta_2^* + \\theta_3^* + \\theta_4^*))*sin(\\theta_1^*), -(0.0823*sin(\\theta_5^*)*sin(\\theta_2^* + \\theta_3^* + \\theta_4^*) + 0.39225*cos(\\theta_2^* + \\theta_3^*) + 0.09465*cos(\\theta_2^* + \\theta_3^* + \\theta_4^*))*sin(\\theta_1^*), -(0.0823*sin(\\theta_5^*)*sin(\\theta_2^* + \\theta_3^* + \\theta_4^*) + 0.09465*cos(\\theta_2^* + \\theta_3^* + \\theta_4^*))*sin(\\theta_1^*),  0.0823*sin(\\theta_1^*)*cos(\\theta_5^*)*cos(\\theta_2^* + \\theta_3^* + \\theta_4^*) + 0.0823*sin(\\theta_5^*)*cos(\\theta_1^*),                                                                                                           0],\n",
       "[                                                                                                                                                                                                                                                                                                                     0,                   -0.425*sin(\\theta_2^*) + 0.0823*sin(\\theta_5^*)*cos(\\theta_2^* + \\theta_3^* + \\theta_4^*) - 0.39225*sin(\\theta_2^* + \\theta_3^*) - 0.09465*sin(\\theta_2^* + \\theta_3^* + \\theta_4^*),                    0.0823*sin(\\theta_5^*)*cos(\\theta_2^* + \\theta_3^* + \\theta_4^*) - 0.39225*sin(\\theta_2^* + \\theta_3^*) - 0.09465*sin(\\theta_2^* + \\theta_3^* + \\theta_4^*),                    0.0823*sin(\\theta_5^*)*cos(\\theta_2^* + \\theta_3^* + \\theta_4^*) - 0.09465*sin(\\theta_2^* + \\theta_3^* + \\theta_4^*),                                                           0.0823*sin(\\theta_2^* + \\theta_3^* + \\theta_4^*)*cos(\\theta_5^*),                                                                                                           0],\n",
       "[                                                                                                                                                                                                                                                                                                                     0,                                                                                                                                                                                        sin(\\theta_1^*),                                                                                                                                                                sin(\\theta_1^*),                                                                                                                         sin(\\theta_1^*),                                                                 -sin(\\theta_2^* + \\theta_3^* + \\theta_4^*)*cos(\\theta_1^*), sin(\\theta_1^*)*cos(\\theta_5^*) + sin(\\theta_5^*)*cos(\\theta_1^*)*cos(\\theta_2^* + \\theta_3^* + \\theta_4^*)],\n",
       "[                                                                                                                                                                                                                                                                                                                     0,                                                                                                                                                                                       -cos(\\theta_1^*),                                                                                                                                                               -cos(\\theta_1^*),                                                                                                                        -cos(\\theta_1^*),                                                                 -sin(\\theta_1^*)*sin(\\theta_2^* + \\theta_3^* + \\theta_4^*), sin(\\theta_1^*)*sin(\\theta_5^*)*cos(\\theta_2^* + \\theta_3^* + \\theta_4^*) - cos(\\theta_1^*)*cos(\\theta_5^*)],\n",
       "[                                                                                                                                                                                                                                                                                                                     1,                                                                                                                                                                                                      0,                                                                                                                                                                              0,                                                                                                                                       0,                                                                                  cos(\\theta_2^* + \\theta_3^* + \\theta_4^*),                                                   sin(\\theta_5^*)*sin(\\theta_2^* + \\theta_3^* + \\theta_4^*)]])"
      ]
     },
     "metadata": {},
     "output_type": "display_data"
    }
   ],
   "source": [
    "\n",
    "# Calculate Jacobian Matrix to use later\n",
    "J = get_Jacobian_UR5(T0, method=2, simplifyMatrix=True)\n",
    "display(J)"
   ]
  },
  {
   "cell_type": "code",
   "execution_count": 49,
   "metadata": {},
   "outputs": [
    {
     "data": {
      "text/latex": [
       "$\\displaystyle \\left[\\begin{matrix}\\left(\\sin{\\left(\\theta^{*}_{1} \\right)} \\sin{\\left(\\theta^{*}_{5} \\right)} - \\cos{\\left(\\theta^{*}_{1} \\right)} \\cos{\\left(\\theta^{*}_{5} \\right)} \\cos{\\left(\\theta^{*}_{2} + \\theta^{*}_{3} + \\theta^{*}_{4} \\right)}\\right) \\cos{\\left(\\theta^{*}_{6} \\right)} + \\sin{\\left(\\theta^{*}_{6} \\right)} \\sin{\\left(\\theta^{*}_{2} + \\theta^{*}_{3} + \\theta^{*}_{4} \\right)} \\cos{\\left(\\theta^{*}_{1} \\right)} & \\left(- \\sin{\\left(\\theta^{*}_{1} \\right)} \\sin{\\left(\\theta^{*}_{5} \\right)} + \\cos{\\left(\\theta^{*}_{1} \\right)} \\cos{\\left(\\theta^{*}_{5} \\right)} \\cos{\\left(\\theta^{*}_{2} + \\theta^{*}_{3} + \\theta^{*}_{4} \\right)}\\right) \\sin{\\left(\\theta^{*}_{6} \\right)} + \\sin{\\left(\\theta^{*}_{2} + \\theta^{*}_{3} + \\theta^{*}_{4} \\right)} \\cos{\\left(\\theta^{*}_{1} \\right)} \\cos{\\left(\\theta^{*}_{6} \\right)} & \\sin{\\left(\\theta^{*}_{1} \\right)} \\cos{\\left(\\theta^{*}_{5} \\right)} + \\sin{\\left(\\theta^{*}_{5} \\right)} \\cos{\\left(\\theta^{*}_{1} \\right)} \\cos{\\left(\\theta^{*}_{2} + \\theta^{*}_{3} + \\theta^{*}_{4} \\right)} & 0.0823 \\sin{\\left(\\theta^{*}_{1} \\right)} \\cos{\\left(\\theta^{*}_{5} \\right)} + 0.10915 \\sin{\\left(\\theta^{*}_{1} \\right)} - 0.425 \\sin{\\left(\\theta^{*}_{2} \\right)} \\cos{\\left(\\theta^{*}_{1} \\right)} + 0.0823 \\sin{\\left(\\theta^{*}_{5} \\right)} \\cos{\\left(\\theta^{*}_{1} \\right)} \\cos{\\left(\\theta^{*}_{2} + \\theta^{*}_{3} + \\theta^{*}_{4} \\right)} - 0.39225 \\sin{\\left(\\theta^{*}_{2} + \\theta^{*}_{3} \\right)} \\cos{\\left(\\theta^{*}_{1} \\right)} - 0.09465 \\sin{\\left(\\theta^{*}_{2} + \\theta^{*}_{3} + \\theta^{*}_{4} \\right)} \\cos{\\left(\\theta^{*}_{1} \\right)}\\\\- \\left(\\sin{\\left(\\theta^{*}_{1} \\right)} \\cos{\\left(\\theta^{*}_{5} \\right)} \\cos{\\left(\\theta^{*}_{2} + \\theta^{*}_{3} + \\theta^{*}_{4} \\right)} + \\sin{\\left(\\theta^{*}_{5} \\right)} \\cos{\\left(\\theta^{*}_{1} \\right)}\\right) \\cos{\\left(\\theta^{*}_{6} \\right)} + \\sin{\\left(\\theta^{*}_{1} \\right)} \\sin{\\left(\\theta^{*}_{6} \\right)} \\sin{\\left(\\theta^{*}_{2} + \\theta^{*}_{3} + \\theta^{*}_{4} \\right)} & \\left(\\sin{\\left(\\theta^{*}_{1} \\right)} \\cos{\\left(\\theta^{*}_{5} \\right)} \\cos{\\left(\\theta^{*}_{2} + \\theta^{*}_{3} + \\theta^{*}_{4} \\right)} + \\sin{\\left(\\theta^{*}_{5} \\right)} \\cos{\\left(\\theta^{*}_{1} \\right)}\\right) \\sin{\\left(\\theta^{*}_{6} \\right)} + \\sin{\\left(\\theta^{*}_{1} \\right)} \\sin{\\left(\\theta^{*}_{2} + \\theta^{*}_{3} + \\theta^{*}_{4} \\right)} \\cos{\\left(\\theta^{*}_{6} \\right)} & \\sin{\\left(\\theta^{*}_{1} \\right)} \\sin{\\left(\\theta^{*}_{5} \\right)} \\cos{\\left(\\theta^{*}_{2} + \\theta^{*}_{3} + \\theta^{*}_{4} \\right)} - \\cos{\\left(\\theta^{*}_{1} \\right)} \\cos{\\left(\\theta^{*}_{5} \\right)} & - 0.425 \\sin{\\left(\\theta^{*}_{1} \\right)} \\sin{\\left(\\theta^{*}_{2} \\right)} + 0.0823 \\sin{\\left(\\theta^{*}_{1} \\right)} \\sin{\\left(\\theta^{*}_{5} \\right)} \\cos{\\left(\\theta^{*}_{2} + \\theta^{*}_{3} + \\theta^{*}_{4} \\right)} - 0.39225 \\sin{\\left(\\theta^{*}_{1} \\right)} \\sin{\\left(\\theta^{*}_{2} + \\theta^{*}_{3} \\right)} - 0.09465 \\sin{\\left(\\theta^{*}_{1} \\right)} \\sin{\\left(\\theta^{*}_{2} + \\theta^{*}_{3} + \\theta^{*}_{4} \\right)} - 0.0823 \\cos{\\left(\\theta^{*}_{1} \\right)} \\cos{\\left(\\theta^{*}_{5} \\right)} - 0.10915 \\cos{\\left(\\theta^{*}_{1} \\right)}\\\\- \\sin{\\left(\\theta^{*}_{6} \\right)} \\cos{\\left(\\theta^{*}_{2} + \\theta^{*}_{3} + \\theta^{*}_{4} \\right)} - \\sin{\\left(\\theta^{*}_{2} + \\theta^{*}_{3} + \\theta^{*}_{4} \\right)} \\cos{\\left(\\theta^{*}_{5} \\right)} \\cos{\\left(\\theta^{*}_{6} \\right)} & \\sin{\\left(\\theta^{*}_{6} \\right)} \\sin{\\left(\\theta^{*}_{2} + \\theta^{*}_{3} + \\theta^{*}_{4} \\right)} \\cos{\\left(\\theta^{*}_{5} \\right)} - \\cos{\\left(\\theta^{*}_{6} \\right)} \\cos{\\left(\\theta^{*}_{2} + \\theta^{*}_{3} + \\theta^{*}_{4} \\right)} & \\sin{\\left(\\theta^{*}_{5} \\right)} \\sin{\\left(\\theta^{*}_{2} + \\theta^{*}_{3} + \\theta^{*}_{4} \\right)} & 0.0823 \\sin{\\left(\\theta^{*}_{5} \\right)} \\sin{\\left(\\theta^{*}_{2} + \\theta^{*}_{3} + \\theta^{*}_{4} \\right)} + 0.425 \\cos{\\left(\\theta^{*}_{2} \\right)} + 0.39225 \\cos{\\left(\\theta^{*}_{2} + \\theta^{*}_{3} \\right)} + 0.09465 \\cos{\\left(\\theta^{*}_{2} + \\theta^{*}_{3} + \\theta^{*}_{4} \\right)} + 0.089159\\\\0 & 0 & 0 & 1\\end{matrix}\\right]$"
      ],
      "text/plain": [
       "Matrix([\n",
       "[ (sin(\\theta_1^*)*sin(\\theta_5^*) - cos(\\theta_1^*)*cos(\\theta_5^*)*cos(\\theta_2^* + \\theta_3^* + \\theta_4^*))*cos(\\theta_6^*) + sin(\\theta_6^*)*sin(\\theta_2^* + \\theta_3^* + \\theta_4^*)*cos(\\theta_1^*), (-sin(\\theta_1^*)*sin(\\theta_5^*) + cos(\\theta_1^*)*cos(\\theta_5^*)*cos(\\theta_2^* + \\theta_3^* + \\theta_4^*))*sin(\\theta_6^*) + sin(\\theta_2^* + \\theta_3^* + \\theta_4^*)*cos(\\theta_1^*)*cos(\\theta_6^*), sin(\\theta_1^*)*cos(\\theta_5^*) + sin(\\theta_5^*)*cos(\\theta_1^*)*cos(\\theta_2^* + \\theta_3^* + \\theta_4^*),  0.0823*sin(\\theta_1^*)*cos(\\theta_5^*) + 0.10915*sin(\\theta_1^*) - 0.425*sin(\\theta_2^*)*cos(\\theta_1^*) + 0.0823*sin(\\theta_5^*)*cos(\\theta_1^*)*cos(\\theta_2^* + \\theta_3^* + \\theta_4^*) - 0.39225*sin(\\theta_2^* + \\theta_3^*)*cos(\\theta_1^*) - 0.09465*sin(\\theta_2^* + \\theta_3^* + \\theta_4^*)*cos(\\theta_1^*)],\n",
       "[-(sin(\\theta_1^*)*cos(\\theta_5^*)*cos(\\theta_2^* + \\theta_3^* + \\theta_4^*) + sin(\\theta_5^*)*cos(\\theta_1^*))*cos(\\theta_6^*) + sin(\\theta_1^*)*sin(\\theta_6^*)*sin(\\theta_2^* + \\theta_3^* + \\theta_4^*),  (sin(\\theta_1^*)*cos(\\theta_5^*)*cos(\\theta_2^* + \\theta_3^* + \\theta_4^*) + sin(\\theta_5^*)*cos(\\theta_1^*))*sin(\\theta_6^*) + sin(\\theta_1^*)*sin(\\theta_2^* + \\theta_3^* + \\theta_4^*)*cos(\\theta_6^*), sin(\\theta_1^*)*sin(\\theta_5^*)*cos(\\theta_2^* + \\theta_3^* + \\theta_4^*) - cos(\\theta_1^*)*cos(\\theta_5^*), -0.425*sin(\\theta_1^*)*sin(\\theta_2^*) + 0.0823*sin(\\theta_1^*)*sin(\\theta_5^*)*cos(\\theta_2^* + \\theta_3^* + \\theta_4^*) - 0.39225*sin(\\theta_1^*)*sin(\\theta_2^* + \\theta_3^*) - 0.09465*sin(\\theta_1^*)*sin(\\theta_2^* + \\theta_3^* + \\theta_4^*) - 0.0823*cos(\\theta_1^*)*cos(\\theta_5^*) - 0.10915*cos(\\theta_1^*)],\n",
       "[                                                                    -sin(\\theta_6^*)*cos(\\theta_2^* + \\theta_3^* + \\theta_4^*) - sin(\\theta_2^* + \\theta_3^* + \\theta_4^*)*cos(\\theta_5^*)*cos(\\theta_6^*),                                                                      sin(\\theta_6^*)*sin(\\theta_2^* + \\theta_3^* + \\theta_4^*)*cos(\\theta_5^*) - cos(\\theta_6^*)*cos(\\theta_2^* + \\theta_3^* + \\theta_4^*),                                                   sin(\\theta_5^*)*sin(\\theta_2^* + \\theta_3^* + \\theta_4^*),                                                                                                                          0.0823*sin(\\theta_5^*)*sin(\\theta_2^* + \\theta_3^* + \\theta_4^*) + 0.425*cos(\\theta_2^*) + 0.39225*cos(\\theta_2^* + \\theta_3^*) + 0.09465*cos(\\theta_2^* + \\theta_3^* + \\theta_4^*) + 0.089159],\n",
       "[                                                                                                                                                                                                         0,                                                                                                                                                                                                          0,                                                                                                           0,                                                                                                                                                                                                                                                                                                                       1]])"
      ]
     },
     "metadata": {},
     "output_type": "display_data"
    }
   ],
   "source": [
    "display(sp.simplify(T0[6]))"
   ]
  },
  {
   "cell_type": "code",
   "execution_count": null,
   "metadata": {},
   "outputs": [],
   "source": [
    "\n",
    "draw_circle_using_jacobian(T0, J)"
   ]
  }
 ],
 "metadata": {
  "interpreter": {
   "hash": "e7370f93d1d0cde622a1f8e1c04877d8463912d04d973331ad4851f04de6915a"
  },
  "kernelspec": {
   "display_name": "Python 3.8.10 64-bit",
   "language": "python",
   "name": "python3"
  },
  "language_info": {
   "codemirror_mode": {
    "name": "ipython",
    "version": 3
   },
   "file_extension": ".py",
   "mimetype": "text/x-python",
   "name": "python",
   "nbconvert_exporter": "python",
   "pygments_lexer": "ipython3",
   "version": "3.8.10"
  },
  "orig_nbformat": 4
 },
 "nbformat": 4,
 "nbformat_minor": 2
}
